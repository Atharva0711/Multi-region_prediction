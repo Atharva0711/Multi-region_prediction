{
  "cells": [
    {
      "cell_type": "code",
      "execution_count": null,
      "id": "50a159eb-6852-4079-8bdf-31663aa3f831",
      "metadata": {
        "id": "50a159eb-6852-4079-8bdf-31663aa3f831"
      },
      "outputs": [],
      "source": [
        "import pandas as pd\n",
        "import numpy as np\n",
        "import seaborn as sns\n",
        "import matplotlib.pyplot as plt\n",
        "from sklearn.ensemble import RandomForestRegressor"
      ]
    },
    {
      "cell_type": "code",
      "execution_count": null,
      "id": "f7112978-c311-46c3-8938-e739524c405f",
      "metadata": {
        "tags": [],
        "id": "f7112978-c311-46c3-8938-e739524c405f"
      },
      "outputs": [],
      "source": [
        "from sklearn.linear_model import LinearRegression\n",
        "from sklearn.preprocessing import PolynomialFeatures\n",
        "import xgboost as xgb\n",
        "from sklearn.preprocessing import StandardScaler\n",
        "from sklearn.model_selection import train_test_split\n",
        "from sklearn.metrics import r2_score"
      ]
    },
    {
      "cell_type": "code",
      "execution_count": null,
      "id": "93d69a86-7a1c-4974-9f11-24e818f7b51c",
      "metadata": {
        "id": "93d69a86-7a1c-4974-9f11-24e818f7b51c"
      },
      "outputs": [],
      "source": [
        "# Importing the Boston Housing dataset\n",
        "from sklearn.datasets import load_boston\n",
        "boston = load_boston()"
      ]
    },
    {
      "cell_type": "code",
      "execution_count": null,
      "id": "da1aed48-70e8-433f-afd7-0d682980541c",
      "metadata": {
        "id": "da1aed48-70e8-433f-afd7-0d682980541c"
      },
      "outputs": [],
      "source": [
        "data = pd.DataFrame(boston.data)"
      ]
    },
    {
      "cell_type": "code",
      "execution_count": null,
      "id": "a5d3c466-efed-4e1e-a00d-67da0dac9979",
      "metadata": {
        "tags": [],
        "id": "a5d3c466-efed-4e1e-a00d-67da0dac9979",
        "outputId": "9d15b92f-6985-4504-a471-7832827793e0"
      },
      "outputs": [
        {
          "data": {
            "text/html": [
              "<div>\n",
              "<style scoped>\n",
              "    .dataframe tbody tr th:only-of-type {\n",
              "        vertical-align: middle;\n",
              "    }\n",
              "\n",
              "    .dataframe tbody tr th {\n",
              "        vertical-align: top;\n",
              "    }\n",
              "\n",
              "    .dataframe thead th {\n",
              "        text-align: right;\n",
              "    }\n",
              "</style>\n",
              "<table border=\"1\" class=\"dataframe\">\n",
              "  <thead>\n",
              "    <tr style=\"text-align: right;\">\n",
              "      <th></th>\n",
              "      <th>CRIM</th>\n",
              "      <th>ZN</th>\n",
              "      <th>INDUS</th>\n",
              "      <th>CHAS</th>\n",
              "      <th>NOX</th>\n",
              "      <th>RM</th>\n",
              "      <th>AGE</th>\n",
              "      <th>DIS</th>\n",
              "      <th>RAD</th>\n",
              "      <th>TAX</th>\n",
              "      <th>PTRATIO</th>\n",
              "      <th>B</th>\n",
              "      <th>LSTAT</th>\n",
              "    </tr>\n",
              "  </thead>\n",
              "  <tbody>\n",
              "    <tr>\n",
              "      <th>0</th>\n",
              "      <td>0.00632</td>\n",
              "      <td>18.0</td>\n",
              "      <td>2.31</td>\n",
              "      <td>0.0</td>\n",
              "      <td>0.538</td>\n",
              "      <td>6.575</td>\n",
              "      <td>65.2</td>\n",
              "      <td>4.0900</td>\n",
              "      <td>1.0</td>\n",
              "      <td>296.0</td>\n",
              "      <td>15.3</td>\n",
              "      <td>396.90</td>\n",
              "      <td>4.98</td>\n",
              "    </tr>\n",
              "    <tr>\n",
              "      <th>1</th>\n",
              "      <td>0.02731</td>\n",
              "      <td>0.0</td>\n",
              "      <td>7.07</td>\n",
              "      <td>0.0</td>\n",
              "      <td>0.469</td>\n",
              "      <td>6.421</td>\n",
              "      <td>78.9</td>\n",
              "      <td>4.9671</td>\n",
              "      <td>2.0</td>\n",
              "      <td>242.0</td>\n",
              "      <td>17.8</td>\n",
              "      <td>396.90</td>\n",
              "      <td>9.14</td>\n",
              "    </tr>\n",
              "    <tr>\n",
              "      <th>2</th>\n",
              "      <td>0.02729</td>\n",
              "      <td>0.0</td>\n",
              "      <td>7.07</td>\n",
              "      <td>0.0</td>\n",
              "      <td>0.469</td>\n",
              "      <td>7.185</td>\n",
              "      <td>61.1</td>\n",
              "      <td>4.9671</td>\n",
              "      <td>2.0</td>\n",
              "      <td>242.0</td>\n",
              "      <td>17.8</td>\n",
              "      <td>392.83</td>\n",
              "      <td>4.03</td>\n",
              "    </tr>\n",
              "    <tr>\n",
              "      <th>3</th>\n",
              "      <td>0.03237</td>\n",
              "      <td>0.0</td>\n",
              "      <td>2.18</td>\n",
              "      <td>0.0</td>\n",
              "      <td>0.458</td>\n",
              "      <td>6.998</td>\n",
              "      <td>45.8</td>\n",
              "      <td>6.0622</td>\n",
              "      <td>3.0</td>\n",
              "      <td>222.0</td>\n",
              "      <td>18.7</td>\n",
              "      <td>394.63</td>\n",
              "      <td>2.94</td>\n",
              "    </tr>\n",
              "    <tr>\n",
              "      <th>4</th>\n",
              "      <td>0.06905</td>\n",
              "      <td>0.0</td>\n",
              "      <td>2.18</td>\n",
              "      <td>0.0</td>\n",
              "      <td>0.458</td>\n",
              "      <td>7.147</td>\n",
              "      <td>54.2</td>\n",
              "      <td>6.0622</td>\n",
              "      <td>3.0</td>\n",
              "      <td>222.0</td>\n",
              "      <td>18.7</td>\n",
              "      <td>396.90</td>\n",
              "      <td>5.33</td>\n",
              "    </tr>\n",
              "  </tbody>\n",
              "</table>\n",
              "</div>"
            ],
            "text/plain": [
              "      CRIM    ZN  INDUS  CHAS    NOX     RM   AGE     DIS  RAD    TAX  \\\n",
              "0  0.00632  18.0   2.31   0.0  0.538  6.575  65.2  4.0900  1.0  296.0   \n",
              "1  0.02731   0.0   7.07   0.0  0.469  6.421  78.9  4.9671  2.0  242.0   \n",
              "2  0.02729   0.0   7.07   0.0  0.469  7.185  61.1  4.9671  2.0  242.0   \n",
              "3  0.03237   0.0   2.18   0.0  0.458  6.998  45.8  6.0622  3.0  222.0   \n",
              "4  0.06905   0.0   2.18   0.0  0.458  7.147  54.2  6.0622  3.0  222.0   \n",
              "\n",
              "   PTRATIO       B  LSTAT  \n",
              "0     15.3  396.90   4.98  \n",
              "1     17.8  396.90   9.14  \n",
              "2     17.8  392.83   4.03  \n",
              "3     18.7  394.63   2.94  \n",
              "4     18.7  396.90   5.33  "
            ]
          },
          "execution_count": 5,
          "metadata": {},
          "output_type": "execute_result"
        }
      ],
      "source": [
        "data.columns = boston.feature_names\n",
        "data.head()"
      ]
    },
    {
      "cell_type": "code",
      "execution_count": null,
      "id": "c6499172-d09e-4954-b445-e0d76a51fbb7",
      "metadata": {
        "id": "c6499172-d09e-4954-b445-e0d76a51fbb7"
      },
      "outputs": [],
      "source": [
        "#Setting price as the target variable\n",
        "data['PRICE'] = boston.target"
      ]
    },
    {
      "cell_type": "code",
      "execution_count": null,
      "id": "d77288c2-f16e-4a53-867b-29064ff7670f",
      "metadata": {
        "tags": [],
        "id": "d77288c2-f16e-4a53-867b-29064ff7670f",
        "outputId": "ae3af46b-2b56-4a47-96c3-870e15f0783d"
      },
      "outputs": [
        {
          "data": {
            "text/plain": [
              "CRIM       0\n",
              "ZN         0\n",
              "INDUS      0\n",
              "CHAS       0\n",
              "NOX        0\n",
              "RM         0\n",
              "AGE        0\n",
              "DIS        0\n",
              "RAD        0\n",
              "TAX        0\n",
              "PTRATIO    0\n",
              "B          0\n",
              "LSTAT      0\n",
              "PRICE      0\n",
              "dtype: int64"
            ]
          },
          "execution_count": 7,
          "metadata": {},
          "output_type": "execute_result"
        }
      ],
      "source": [
        "# Check for missing values\n",
        "data.isnull().sum()"
      ]
    },
    {
      "cell_type": "code",
      "execution_count": null,
      "id": "09bb5a00-39d7-4e4b-93f1-ce4bffef3bce",
      "metadata": {
        "id": "09bb5a00-39d7-4e4b-93f1-ce4bffef3bce"
      },
      "outputs": [],
      "source": [
        "X = data.drop(['PRICE'], axis = 1)\n",
        "y = data['PRICE']"
      ]
    },
    {
      "cell_type": "code",
      "execution_count": null,
      "id": "da860704-1225-4e75-a8ec-3424754f6a0b",
      "metadata": {
        "id": "da860704-1225-4e75-a8ec-3424754f6a0b"
      },
      "outputs": [],
      "source": [
        "X_train, X_test, y_train, y_test = train_test_split(X, y, test_size = 0.2, random_state=42)"
      ]
    },
    {
      "cell_type": "code",
      "execution_count": null,
      "id": "22c1e7c1-cbba-4a81-8538-33bf60928539",
      "metadata": {
        "tags": [],
        "id": "22c1e7c1-cbba-4a81-8538-33bf60928539",
        "outputId": "09cff2b6-2d06-4657-b769-3263e1c56975"
      },
      "outputs": [
        {
          "data": {
            "text/plain": [
              "array([[ 1.28770177, -0.50032012,  1.03323679, ...,  0.84534281,\n",
              "        -0.07433689,  1.75350503],\n",
              "       [-0.33638447, -0.50032012, -0.41315956, ...,  1.20474139,\n",
              "         0.4301838 , -0.5614742 ],\n",
              "       [-0.40325332,  1.01327135, -0.71521823, ..., -0.63717631,\n",
              "         0.06529747, -0.65159505],\n",
              "       ...,\n",
              "       [-0.40547014,  2.95931752, -1.30336132, ..., -0.59225149,\n",
              "         0.37901005, -0.91069248],\n",
              "       [ 0.85189733, -0.50032012,  1.03323679, ...,  0.84534281,\n",
              "        -2.69458597,  1.52257036],\n",
              "       [-0.38135592, -0.50032012, -0.35216694, ...,  1.15981657,\n",
              "        -3.12158061, -0.25731635]])"
            ]
          },
          "execution_count": 10,
          "metadata": {},
          "output_type": "execute_result"
        }
      ],
      "source": [
        "#Normalising\n",
        "sc = StandardScaler()\n",
        "sc.fit_transform(X_test)\n",
        "sc.fit_transform(X_train)"
      ]
    },
    {
      "cell_type": "code",
      "execution_count": null,
      "id": "1bdc2223-5ec8-4fc4-ac74-3a45557f95aa",
      "metadata": {
        "id": "1bdc2223-5ec8-4fc4-ac74-3a45557f95aa",
        "outputId": "19a3235e-a031-4547-dfe0-10c2c3d3c5b1"
      },
      "outputs": [
        {
          "data": {
            "text/plain": [
              "LinearRegression()"
            ]
          },
          "execution_count": 11,
          "metadata": {},
          "output_type": "execute_result"
        }
      ],
      "source": [
        "lr = LinearRegression()\n",
        "lr.fit(X_train, y_train)"
      ]
    },
    {
      "cell_type": "code",
      "execution_count": null,
      "id": "f356259a-272b-43d0-bca0-e498ca922411",
      "metadata": {
        "id": "f356259a-272b-43d0-bca0-e498ca922411"
      },
      "outputs": [],
      "source": [
        "# Lr model prediction on trained data\n",
        "y_pred_lr = lr.predict(X_test)"
      ]
    },
    {
      "cell_type": "code",
      "execution_count": null,
      "id": "3853bf1c-56c7-46cc-ae9a-0c09c5768df7",
      "metadata": {
        "id": "3853bf1c-56c7-46cc-ae9a-0c09c5768df7"
      },
      "outputs": [],
      "source": [
        "#Using polynomial regression\n",
        "poly = PolynomialFeatures(degree=2)"
      ]
    },
    {
      "cell_type": "code",
      "execution_count": null,
      "id": "7a11f146-78cf-420c-bc7c-530ab8728dc9",
      "metadata": {
        "id": "7a11f146-78cf-420c-bc7c-530ab8728dc9"
      },
      "outputs": [],
      "source": [
        "X_train_poly = poly.fit_transform(X_train)\n",
        "X_test_poly = poly.fit_transform(X_test)"
      ]
    },
    {
      "cell_type": "code",
      "execution_count": null,
      "id": "d85db12b-3c02-42e2-ba40-905103d6fe81",
      "metadata": {
        "id": "d85db12b-3c02-42e2-ba40-905103d6fe81",
        "outputId": "ac9645da-120d-45f8-80dc-dfd919b17a2e"
      },
      "outputs": [
        {
          "data": {
            "text/plain": [
              "LinearRegression()"
            ]
          },
          "execution_count": 15,
          "metadata": {},
          "output_type": "execute_result"
        }
      ],
      "source": [
        "lr.fit(X_train_poly, y_train)"
      ]
    },
    {
      "cell_type": "code",
      "execution_count": null,
      "id": "fd634909-c67a-454c-9da8-4e3429f34cde",
      "metadata": {
        "id": "fd634909-c67a-454c-9da8-4e3429f34cde"
      },
      "outputs": [],
      "source": [
        "y_pred_poly = lr.predict(X_test_poly)"
      ]
    },
    {
      "cell_type": "code",
      "execution_count": null,
      "id": "073d58aa-c53b-4229-ae6c-258803fd6401",
      "metadata": {
        "id": "073d58aa-c53b-4229-ae6c-258803fd6401"
      },
      "outputs": [],
      "source": [
        "from sklearn.ensemble import RandomForestRegressor\n",
        "rfr = RandomForestRegressor()"
      ]
    },
    {
      "cell_type": "code",
      "execution_count": null,
      "id": "8aabfb48-fd2a-4a55-91d6-6f7bc05c4a97",
      "metadata": {
        "id": "8aabfb48-fd2a-4a55-91d6-6f7bc05c4a97",
        "outputId": "65083ece-0351-4c31-e954-001678c56421"
      },
      "outputs": [
        {
          "data": {
            "text/plain": [
              "RandomForestRegressor()"
            ]
          },
          "execution_count": 18,
          "metadata": {},
          "output_type": "execute_result"
        }
      ],
      "source": [
        "# Train using RandomForestRegressor\n",
        "rfr.fit(X_train, y_train)"
      ]
    },
    {
      "cell_type": "code",
      "execution_count": null,
      "id": "382bff5f-8a93-4ecf-9b05-e5daa7e6903b",
      "metadata": {
        "id": "382bff5f-8a93-4ecf-9b05-e5daa7e6903b"
      },
      "outputs": [],
      "source": [
        "y_pred_rfr = rfr.predict(X_test)"
      ]
    },
    {
      "cell_type": "code",
      "execution_count": null,
      "id": "e8f8f2d9-89b4-416c-9f81-a533ca8e0b3f",
      "metadata": {
        "id": "e8f8f2d9-89b4-416c-9f81-a533ca8e0b3f"
      },
      "outputs": [],
      "source": [
        "#Using gridsearch for hyper-parameter tuning, rfr\n",
        "from sklearn.model_selection import RandomizedSearchCV"
      ]
    },
    {
      "cell_type": "code",
      "execution_count": null,
      "id": "267e47fb-7cf8-40f5-b2a8-17b2160cdbe5",
      "metadata": {
        "id": "267e47fb-7cf8-40f5-b2a8-17b2160cdbe5"
      },
      "outputs": [],
      "source": [
        "#Setting multiple values for rfr parameters\n",
        "random_grid = {'n_estimators': [10,100,200, 400, 600], 'max_features': ['auto', 'sqrt'], 'max_depth': [10, 20, 30, 40, 50, None],\n",
        "            'min_samples_split': [2, 5, 10], 'min_samples_leaf': [1, 2, 4], 'bootstrap': [True, False]}"
      ]
    },
    {
      "cell_type": "code",
      "execution_count": null,
      "id": "38a16292-16f3-4acc-8a1e-e2db19fd18f8",
      "metadata": {
        "id": "38a16292-16f3-4acc-8a1e-e2db19fd18f8"
      },
      "outputs": [],
      "source": [
        "rfr_random = RandomizedSearchCV(estimator = rfr, param_distributions = random_grid, n_iter = 100, cv = 3, verbose=2, random_state=42, n_jobs = -1)"
      ]
    },
    {
      "cell_type": "code",
      "execution_count": null,
      "id": "3ccebd74-560b-4359-a6ef-382b5a339f0a",
      "metadata": {
        "collapsed": true,
        "jupyter": {
          "outputs_hidden": true
        },
        "tags": [],
        "id": "3ccebd74-560b-4359-a6ef-382b5a339f0a",
        "outputId": "8ac6e05d-8164-4ac4-d83e-7d3febe9cbd6"
      },
      "outputs": [
        {
          "name": "stdout",
          "output_type": "stream",
          "text": [
            "Fitting 3 folds for each of 100 candidates, totalling 300 fits\n"
          ]
        },
        {
          "data": {
            "text/plain": [
              "RandomizedSearchCV(cv=3, estimator=RandomForestRegressor(), n_iter=100,\n",
              "                   n_jobs=-1,\n",
              "                   param_distributions={'bootstrap': [True, False],\n",
              "                                        'max_depth': [10, 20, 30, 40, 50, None],\n",
              "                                        'max_features': ['auto', 'sqrt'],\n",
              "                                        'min_samples_leaf': [1, 2, 4],\n",
              "                                        'min_samples_split': [2, 5, 10],\n",
              "                                        'n_estimators': [10, 100, 200, 400,\n",
              "                                                         600]},\n",
              "                   random_state=42, verbose=2)"
            ]
          },
          "execution_count": 23,
          "metadata": {},
          "output_type": "execute_result"
        }
      ],
      "source": [
        "#Fitting training data into randomisedsearchcv\n",
        "rfr_random.fit(X_train, y_train)"
      ]
    },
    {
      "cell_type": "code",
      "execution_count": null,
      "id": "d0724aa0-2e5f-4b78-a06a-f6331050217e",
      "metadata": {
        "id": "d0724aa0-2e5f-4b78-a06a-f6331050217e",
        "outputId": "45a98093-8377-4078-81ea-0363f82adeb2"
      },
      "outputs": [
        {
          "data": {
            "text/plain": [
              "{'n_estimators': 400,\n",
              " 'min_samples_split': 2,\n",
              " 'min_samples_leaf': 1,\n",
              " 'max_features': 'sqrt',\n",
              " 'max_depth': 10,\n",
              " 'bootstrap': False}"
            ]
          },
          "execution_count": 28,
          "metadata": {},
          "output_type": "execute_result"
        }
      ],
      "source": [
        "#Getting best rfr parameters\n",
        "rfr_random.best_params_"
      ]
    },
    {
      "cell_type": "code",
      "execution_count": null,
      "id": "8b80e916-7611-4e9a-80d1-f47dd242b571",
      "metadata": {
        "id": "8b80e916-7611-4e9a-80d1-f47dd242b571"
      },
      "outputs": [],
      "source": [
        "#Updating rfr with best_params values\n",
        "rfr_rand = RandomForestRegressor(bootstrap=False, criterion='mse', max_depth=10,\n",
        "           max_features='sqrt', max_leaf_nodes=None,\n",
        "           min_impurity_decrease=0.0, min_impurity_split=None,\n",
        "           min_samples_leaf=1, min_samples_split=2,\n",
        "           min_weight_fraction_leaf=0.0, n_estimators=400, n_jobs=None,\n",
        "           oob_score=False, random_state=None, verbose=0, warm_start=False)"
      ]
    },
    {
      "cell_type": "code",
      "execution_count": null,
      "id": "d0902bfa-653c-4b0f-8962-0453933f225f",
      "metadata": {
        "id": "d0902bfa-653c-4b0f-8962-0453933f225f",
        "outputId": "deb9cfa4-e70c-42ff-a380-4815e91c0bdc"
      },
      "outputs": [
        {
          "data": {
            "text/plain": [
              "RandomForestRegressor(bootstrap=False, max_depth=10, max_features='sqrt',\n",
              "                      n_estimators=400)"
            ]
          },
          "execution_count": 25,
          "metadata": {},
          "output_type": "execute_result"
        }
      ],
      "source": [
        "#Fitting training data with rfr's best_params\n",
        "rfr_rand.fit(X_train, y_train)"
      ]
    },
    {
      "cell_type": "code",
      "execution_count": null,
      "id": "db36f4cf-e67c-441e-89ae-ef6477210a60",
      "metadata": {
        "id": "db36f4cf-e67c-441e-89ae-ef6477210a60"
      },
      "outputs": [],
      "source": [
        "y_pred_rfr_rand = rfr_rand.predict(X_test)"
      ]
    },
    {
      "cell_type": "code",
      "execution_count": null,
      "id": "a3278fe9-95f6-4334-b6be-a31de56db8ff",
      "metadata": {
        "id": "a3278fe9-95f6-4334-b6be-a31de56db8ff"
      },
      "outputs": [],
      "source": [
        "#Now with XGBoost\n",
        "from xgboost import XGBRegressor\n",
        "xgbr = XGBRegressor()"
      ]
    },
    {
      "cell_type": "code",
      "execution_count": null,
      "id": "8ebb8074-288d-489f-929f-fb0471a07a67",
      "metadata": {
        "id": "8ebb8074-288d-489f-929f-fb0471a07a67",
        "outputId": "dbb82ad0-18c3-48f9-848f-fa420adc8f6f"
      },
      "outputs": [
        {
          "data": {
            "text/plain": [
              "XGBRegressor(base_score=0.5, booster='gbtree', colsample_bylevel=1,\n",
              "             colsample_bynode=1, colsample_bytree=1, gamma=0, gpu_id=-1,\n",
              "             importance_type='gain', interaction_constraints='',\n",
              "             learning_rate=0.300000012, max_delta_step=0, max_depth=6,\n",
              "             min_child_weight=1, missing=nan, monotone_constraints='()',\n",
              "             n_estimators=100, n_jobs=4, num_parallel_tree=1, random_state=0,\n",
              "             reg_alpha=0, reg_lambda=1, scale_pos_weight=1, subsample=1,\n",
              "             tree_method='exact', validate_parameters=1, verbosity=None)"
            ]
          },
          "execution_count": 28,
          "metadata": {},
          "output_type": "execute_result"
        }
      ],
      "source": [
        "# Train the model with default xgb params\n",
        "xgbr.fit(X_train, y_train)"
      ]
    },
    {
      "cell_type": "code",
      "execution_count": null,
      "id": "c20abe50-11dd-4175-876a-104534a9d036",
      "metadata": {
        "id": "c20abe50-11dd-4175-876a-104534a9d036"
      },
      "outputs": [],
      "source": [
        "# Model prediction on train data\n",
        "y_pred_xgb = xgbr.predict(X_test)"
      ]
    },
    {
      "cell_type": "code",
      "execution_count": null,
      "id": "e794b822-70c0-42f0-af76-8b0141dd4bf4",
      "metadata": {
        "id": "e794b822-70c0-42f0-af76-8b0141dd4bf4"
      },
      "outputs": [],
      "source": [
        "#Setting multiple values for xgb parameters\n",
        "params={\n",
        " \"learning_rate\"    : [0.001, 0.01, 0.05, 0.1, 0.2, 0.3] ,\n",
        " \"max_depth\"        : [4, 5, 6, 8, 10, 12],\n",
        " \"min_child_weight\" : [1, 3, 5],\n",
        " \"gamma\"            : [ 0.0, 0.1, 0.2 , 0.3],\n",
        " \"colsample_bytree\" : [ 0.3, 0.4, 0.5, 1]\n",
        "\n",
        "}"
      ]
    },
    {
      "cell_type": "code",
      "execution_count": null,
      "id": "051e24c5-205e-4503-a9f8-d6f018a02dea",
      "metadata": {
        "id": "051e24c5-205e-4503-a9f8-d6f018a02dea"
      },
      "outputs": [],
      "source": [
        "xgb_random7 = RandomizedSearchCV(estimator = xgbr, param_distributions= params, n_iter=100, cv=3, verbose=2, n_jobs=-1)"
      ]
    },
    {
      "cell_type": "code",
      "execution_count": null,
      "id": "733f5a27-b50b-4a8e-906c-d831afbfa8cb",
      "metadata": {
        "collapsed": true,
        "jupyter": {
          "outputs_hidden": true
        },
        "tags": [],
        "id": "733f5a27-b50b-4a8e-906c-d831afbfa8cb",
        "outputId": "4642a0e5-56e1-4050-c869-b3fcf4194e8d"
      },
      "outputs": [
        {
          "name": "stdout",
          "output_type": "stream",
          "text": [
            "Fitting 3 folds for each of 100 candidates, totalling 300 fits\n"
          ]
        },
        {
          "data": {
            "text/plain": [
              "RandomizedSearchCV(cv=3,\n",
              "                   estimator=XGBRegressor(base_score=0.5, booster='gbtree',\n",
              "                                          colsample_bylevel=1,\n",
              "                                          colsample_bynode=1,\n",
              "                                          colsample_bytree=1, gamma=0,\n",
              "                                          gpu_id=-1, importance_type='gain',\n",
              "                                          interaction_constraints='',\n",
              "                                          learning_rate=0.300000012,\n",
              "                                          max_delta_step=0, max_depth=6,\n",
              "                                          min_child_weight=1, missing=nan,\n",
              "                                          monotone_constraints='()',\n",
              "                                          n_estimators=100, n_jobs=4,\n",
              "                                          num_par...ree=1, random_state=0,\n",
              "                                          reg_alpha=0, reg_lambda=1,\n",
              "                                          scale_pos_weight=1, subsample=1,\n",
              "                                          tree_method='exact',\n",
              "                                          validate_parameters=1,\n",
              "                                          verbosity=None),\n",
              "                   n_iter=100, n_jobs=-1,\n",
              "                   param_distributions={'colsample_bytree': [0.3, 0.4, 0.5, 1],\n",
              "                                        'gamma': [0.0, 0.1, 0.2, 0.3],\n",
              "                                        'learning_rate': [0.001, 0.01, 0.05,\n",
              "                                                          0.1, 0.2, 0.3],\n",
              "                                        'max_depth': [4, 5, 6, 8, 10, 12],\n",
              "                                        'min_child_weight': [1, 3, 5]},\n",
              "                   verbose=2)"
            ]
          },
          "execution_count": 144,
          "metadata": {},
          "output_type": "execute_result"
        }
      ],
      "source": [
        "#Fitting training data into randomisedsearchcv\n",
        "xgb_random7.fit(X_train, y_train)"
      ]
    },
    {
      "cell_type": "code",
      "execution_count": null,
      "id": "0f0e8eee-defd-4635-9b85-cb577844d20b",
      "metadata": {
        "id": "0f0e8eee-defd-4635-9b85-cb577844d20b",
        "outputId": "8d4a95e0-0c0d-4606-dbde-0c6ea65fb655"
      },
      "outputs": [
        {
          "data": {
            "text/plain": [
              "{'min_child_weight': 1,\n",
              " 'max_depth': 10,\n",
              " 'learning_rate': 0.3,\n",
              " 'gamma': 0.2,\n",
              " 'colsample_bytree': 1}"
            ]
          },
          "execution_count": 145,
          "metadata": {},
          "output_type": "execute_result"
        }
      ],
      "source": [
        "xgb_random7.best_params_"
      ]
    },
    {
      "cell_type": "code",
      "execution_count": null,
      "id": "d655f172-47b1-4ba0-af39-58f7df18f529",
      "metadata": {
        "id": "d655f172-47b1-4ba0-af39-58f7df18f529"
      },
      "outputs": [],
      "source": [
        "#Updating xgbr with best_params values\n",
        "xgbr_rand7 = XGBRegressor(base_score=0.5, booster='gbtree', colsample_bylevel=1,\n",
        "             colsample_bynode=1, colsample_bytree=1, gamma=0.2, gpu_id=-1,\n",
        "             importance_type='gain', interaction_constraints='',\n",
        "             learning_rate=0.3, max_delta_step=0, max_depth=10,\n",
        "             min_child_weight=1, monotone_constraints='()',\n",
        "             n_estimators=100, n_jobs=4, num_parallel_tree=1, random_state=0,\n",
        "             reg_alpha=0, reg_lambda=1, scale_pos_weight=1, subsample=1,\n",
        "             tree_method='exact', validate_parameters=1, verbosity=None)"
      ]
    },
    {
      "cell_type": "code",
      "execution_count": null,
      "id": "3fa69ae0-53aa-4b6c-83c0-9d9a86f4dee6",
      "metadata": {
        "tags": [],
        "id": "3fa69ae0-53aa-4b6c-83c0-9d9a86f4dee6",
        "outputId": "26284003-9487-4518-f893-cbf195794d20"
      },
      "outputs": [
        {
          "data": {
            "text/plain": [
              "XGBRegressor(base_score=0.5, booster='gbtree', colsample_bylevel=1,\n",
              "             colsample_bynode=1, colsample_bytree=1, gamma=0.2, gpu_id=-1,\n",
              "             importance_type='gain', interaction_constraints='',\n",
              "             learning_rate=0.3, max_delta_step=0, max_depth=10,\n",
              "             min_child_weight=1, missing=nan, monotone_constraints='()',\n",
              "             n_estimators=100, n_jobs=4, num_parallel_tree=1, random_state=0,\n",
              "             reg_alpha=0, reg_lambda=1, scale_pos_weight=1, subsample=1,\n",
              "             tree_method='exact', validate_parameters=1, verbosity=None)"
            ]
          },
          "execution_count": 33,
          "metadata": {},
          "output_type": "execute_result"
        }
      ],
      "source": [
        "xgbr_rand7.fit(X_train, y_train)"
      ]
    },
    {
      "cell_type": "code",
      "execution_count": null,
      "id": "c5b02f56-33e4-46d0-b89a-17551115adea",
      "metadata": {
        "id": "c5b02f56-33e4-46d0-b89a-17551115adea"
      },
      "outputs": [],
      "source": [
        "y_pred_xgbr_rand7 = xgbr_rand7.predict(X_test)"
      ]
    },
    {
      "cell_type": "code",
      "execution_count": null,
      "id": "b1a4a071-bf36-47af-b4d5-6ed8e0353968",
      "metadata": {
        "id": "b1a4a071-bf36-47af-b4d5-6ed8e0353968",
        "outputId": "d1670d25-a49f-4062-d487-de13c04d396b"
      },
      "outputs": [
        {
          "name": "stdout",
          "output_type": "stream",
          "text": [
            "Linear Regression:  0.6687594935356294\n",
            "Polynomial Regression:  0.8065890290726113\n",
            "Random Forest:  0.8860258262571211\n",
            "Random Forest through gridsearch:  0.8778387543689249\n",
            "default xgb params :  0.9105388132305845\n",
            "XGBoost through gridsearch:  0.8891994087782685\n"
          ]
        }
      ],
      "source": [
        "#R2 scores of all regression models:\n",
        "print(\"Linear Regression: \", r2_score(y_test, y_pred_lr))\n",
        "print(\"Polynomial Regression: \", r2_score(y_test, y_pred_poly))\n",
        "print(\"Random Forest: \", r2_score(y_test, y_pred_rfr))\n",
        "print(\"Random Forest through gridsearch: \", r2_score(y_test, y_pred_rfr_rand))\n",
        "print(\"default xgb params : \", r2_score(y_test, y_pred_xgb))\n",
        "print(\"XGBoost through gridsearch: \", r2_score(y_test, y_pred_xgbr_rand7))"
      ]
    },
    {
      "cell_type": "code",
      "execution_count": null,
      "id": "957be2c4-87b1-4afb-be1b-0751139b23e7",
      "metadata": {
        "id": "957be2c4-87b1-4afb-be1b-0751139b23e7"
      },
      "outputs": [],
      "source": [
        "#now SVM\n",
        "from sklearn import svm"
      ]
    },
    {
      "cell_type": "code",
      "execution_count": null,
      "id": "45c6e81c-40a3-4bf5-9e01-a60db3fdd954",
      "metadata": {
        "id": "45c6e81c-40a3-4bf5-9e01-a60db3fdd954"
      },
      "outputs": [],
      "source": [
        "reg = svm.SVR(C=1000000, cache_size=200, coef0=0.0, degree=4, epsilon=0.1,\n",
        "  gamma='scale', kernel='rbf', max_iter=-1, shrinking=True,\n",
        "  tol=0.001, verbose=False)"
      ]
    },
    {
      "cell_type": "code",
      "execution_count": null,
      "id": "03137edd-b53d-49e6-ad73-346e075cfb58",
      "metadata": {
        "id": "03137edd-b53d-49e6-ad73-346e075cfb58",
        "outputId": "0a9b08ff-226b-45d7-c750-ae9cc46f63d9"
      },
      "outputs": [
        {
          "data": {
            "text/plain": [
              "SVR(C=1000000, degree=4)"
            ]
          },
          "execution_count": 38,
          "metadata": {},
          "output_type": "execute_result"
        }
      ],
      "source": [
        "reg.fit(X_train, y_train)"
      ]
    },
    {
      "cell_type": "code",
      "execution_count": null,
      "id": "198bd735-01fe-457a-9bd3-a0bd96730a48",
      "metadata": {
        "id": "198bd735-01fe-457a-9bd3-a0bd96730a48"
      },
      "outputs": [],
      "source": [
        "y_pred_reg = reg.predict(X_test)"
      ]
    },
    {
      "cell_type": "code",
      "execution_count": null,
      "id": "f52ee1b5-b9bc-4d9d-98b0-fa53074d0a9a",
      "metadata": {
        "id": "f52ee1b5-b9bc-4d9d-98b0-fa53074d0a9a"
      },
      "outputs": [],
      "source": [
        "reg2 = svm.SVR(C=100000, cache_size=200, coef0=0.0, degree=4, epsilon=0.1,\n",
        "  gamma='scale', kernel='poly', max_iter=-1, shrinking=True,\n",
        "  tol=0.001, verbose=False)"
      ]
    },
    {
      "cell_type": "code",
      "execution_count": null,
      "id": "2eb3aa1a-aa56-42d3-af4d-d435e2f1e2b7",
      "metadata": {
        "id": "2eb3aa1a-aa56-42d3-af4d-d435e2f1e2b7",
        "outputId": "793ee761-5780-477d-cd33-607ae1696f95"
      },
      "outputs": [
        {
          "data": {
            "text/plain": [
              "SVR(C=100000, degree=4, kernel='poly')"
            ]
          },
          "execution_count": 41,
          "metadata": {},
          "output_type": "execute_result"
        }
      ],
      "source": [
        "reg2.fit(X_train, y_train)"
      ]
    },
    {
      "cell_type": "code",
      "execution_count": null,
      "id": "1b97b7a7-7c9a-4cec-b3d9-67f5fde6f114",
      "metadata": {
        "id": "1b97b7a7-7c9a-4cec-b3d9-67f5fde6f114"
      },
      "outputs": [],
      "source": [
        "y_pred_reg2 = reg2.predict(X_test)"
      ]
    },
    {
      "cell_type": "code",
      "execution_count": null,
      "id": "f93d748b-c283-422d-ad2e-757260ed687d",
      "metadata": {
        "id": "f93d748b-c283-422d-ad2e-757260ed687d",
        "outputId": "cc19446d-ae78-4c56-b3ca-c935408a6235"
      },
      "outputs": [
        {
          "name": "stdout",
          "output_type": "stream",
          "text": [
            "SVM with 'rbf' kernel:  0.821646734651796\n",
            "SVM with 'poly' kernel:  0.8300400843023377\n"
          ]
        }
      ],
      "source": [
        "print(\"SVM with 'rbf' kernel: \", r2_score(y_test, y_pred_reg))\n",
        "print(\"SVM with 'poly' kernel: \", r2_score(y_test, y_pred_reg2))"
      ]
    },
    {
      "cell_type": "code",
      "execution_count": null,
      "id": "60367ed7-c96c-415d-bbb4-74706d9c724e",
      "metadata": {
        "id": "60367ed7-c96c-415d-bbb4-74706d9c724e",
        "outputId": "ce8e0bad-e4c0-401b-ebaa-8bde6909bd1f"
      },
      "outputs": [
        {
          "name": "stdout",
          "output_type": "stream",
          "text": [
            "0.786439953200314 4.353202349704965\n",
            "0.872728088449711 2.754347877473201\n",
            "0.8519959581877371 3.026492733765865\n",
            "0.8022020405862428 4.003365078094408\n",
            "0.8700243202511652 2.5435404890441133\n",
            "0.8672578999673743 2.4022467355733443\n",
            "0.8491778098390922 2.6254717867937356\n",
            "0.78727468630717 4.24605362934802\n"
          ]
        }
      ],
      "source": [
        "m_lr, b_lr = np.polyfit(y_test, y_pred_lr, 1)\n",
        "print(m_lr, b_lr)\n",
        "\n",
        "m_pol, b_pol = np.polyfit(y_test, y_pred_poly, 1)\n",
        "print(m_pol, b_pol)\n",
        "\n",
        "m_rfr, b_rfr = np.polyfit(y_test, y_pred_rfr, 1)\n",
        "print(m_rfr, b_rfr)\n",
        "\n",
        "m_rfrand, b_rfrand = np.polyfit(y_test, y_pred_rfr_rand, 1)\n",
        "print(m_rfrand, b_rfrand)\n",
        "\n",
        "m_xgbr, b_xgbr = np.polyfit(y_test, y_pred_xgb, 1)\n",
        "print(m_xgbr, b_xgbr)\n",
        "\n",
        "m_xgbrand, b_xgbrand = np.polyfit(y_test, y_pred_xgbr_rand7, 1)\n",
        "print(m_xgbrand, b_xgbrand)\n",
        "\n",
        "m_svreg1, b_svreg1 = np.polyfit(y_test, y_pred_reg, 1)\n",
        "print(m_svreg1, b_svreg1)\n",
        "\n",
        "m_svreg2, b_svreg2 = np.polyfit(y_test, y_pred_reg2, 1)\n",
        "print(m_svreg2, b_svreg2)"
      ]
    },
    {
      "cell_type": "code",
      "execution_count": null,
      "id": "f58ce09f-d50f-4388-a149-e0213912ecff",
      "metadata": {
        "id": "f58ce09f-d50f-4388-a149-e0213912ecff"
      },
      "outputs": [],
      "source": [
        "lr_equation = (0.78644*(y_test) + 4.35320)\n",
        "poly_equation = (0.8727*(y_test) + 2.75434)\n",
        "rfr_equation = (0.8472*(y_test) + 3.09114)\n",
        "rfr_rand_equation = (0.8017*(y_test) + 3.97627)\n",
        "xgbr_equation = (0.8700*(y_test) + 2.54354)\n",
        "xgbr_rand_equation = (0.8672*(y_test) + 2.40224)\n",
        "svm_rbf_equation = (0.8491*(y_test) + 2.62547)\n",
        "svm_poly_equation = (0.78727*(y_test) + 4.24605)"
      ]
    },
    {
      "cell_type": "code",
      "execution_count": null,
      "id": "3705b95d-cce4-4221-b000-dc41d4f5ddd6",
      "metadata": {
        "tags": [],
        "id": "3705b95d-cce4-4221-b000-dc41d4f5ddd6",
        "outputId": "146717fb-a7e7-41b9-8500-78fc9d5c2b3e"
      },
      "outputs": [
        {
          "data": {
            "image/png": "[encoded data removed]",
            "text/plain": [
              "<Figure size 504x504 with 8 Axes>"
            ]
          },
          "metadata": {
            "needs_background": "light"
          },
          "output_type": "display_data"
        }
      ],
      "source": [
        "fig, axs = plt.subplots(4, 2, figsize=(7,7), constrained_layout=True)\n",
        "axs[0, 0].scatter(y_test, y_pred_lr)\n",
        "axs[0, 0].plot(y_test, lr_equation, label= 'y=0.7864x + 4.35320', color='orange')\n",
        "axs[0, 0].legend(loc='lower right')\n",
        "axs[0, 0].set_title(\"Linear Regression\")\n",
        "axs[0, 1].scatter(y_test, y_pred_poly)\n",
        "axs[0, 1].plot(y_test, poly_equation, label = 'y=0.8727x + 2.725434', color='orange')\n",
        "axs[0, 1].set_title(\"Linear Regression (Polynomial)\")\n",
        "axs[0, 1].legend(loc='lower right')\n",
        "axs[1, 0].scatter(y_test, y_pred_rfr_rand)\n",
        "axs[1, 0].plot(y_test, rfr_equation, label = 'y=0.8472x + 3.09114', color='orange')\n",
        "axs[1, 0].set_title(\"Random Forest\")\n",
        "axs[1, 0].legend(loc='lower right')\n",
        "axs[1, 1].scatter(y_test, y_pred_rfr)\n",
        "axs[1, 1].plot(y_test, rfr_rand_equation,  label= 'y=0.8017x + 3.97627', color='orange')\n",
        "axs[1, 1].set_title(\"Random Forest Optimum Params\")\n",
        "axs[1, 1].legend(loc='lower right')\n",
        "axs[2, 0].scatter(y_test, y_pred_xgbr_rand7)\n",
        "axs[2, 0].plot(y_test, xgbr_rand_equation, label = 'y=0.8700x + 2.54354', color='orange')\n",
        "axs[2, 0].set_title(\"XGBoost\")\n",
        "axs[2, 0].legend(loc='lower right')\n",
        "axs[2, 1].scatter(y_test, y_pred_xgb)\n",
        "axs[2, 1].plot(y_test, xgbr_equation, label = 'y=0.8672x + 2.40224', color='orange')\n",
        "axs[2, 1].set_title(\"XGBoost Optimum Params\", weight='bold')\n",
        "axs[2, 1].legend(loc='lower right')\n",
        "axs[3, 0].scatter(y_test, y_pred_reg)\n",
        "axs[3, 0].plot(y_test, svm_rbf_equation, label = 'y=0.8491x + 2.62547', color='orange')\n",
        "axs[3, 0].set_title(\"SVM (kernel=RBF)\")\n",
        "axs[3, 0].legend(loc='lower right')\n",
        "axs[3, 1].scatter(y_test, y_pred_reg2)\n",
        "axs[3, 1].plot(y_test, svm_poly_equation, label= 'y = 0.78727x + 4.24605', color='orange')\n",
        "axs[3, 1].set_title(\"SVM (kernel=Polynomial)\")\n",
        "axs[3, 1].legend(loc='lower right')\n",
        "\n",
        "# set labels\n",
        "plt.setp(axs[-1, :], xlabel='Real Values')\n",
        "plt.setp(axs[:, 0], ylabel='Predicted Values')\n",
        "\n",
        "plt.show()"
      ]
    },
    {
      "cell_type": "code",
      "execution_count": null,
      "id": "30de6277-b25f-46b5-90df-e9b59e677c82",
      "metadata": {
        "id": "30de6277-b25f-46b5-90df-e9b59e677c82"
      },
      "outputs": [],
      "source": [
        "from sklearn.metrics import explained_variance_score"
      ]
    },
    {
      "cell_type": "code",
      "execution_count": null,
      "id": "483355e5-c096-4fc8-9b6d-c86f1e900a67",
      "metadata": {
        "id": "483355e5-c096-4fc8-9b6d-c86f1e900a67",
        "outputId": "d3ba0840-3fcc-4589-b54c-9f55c0a150e6"
      },
      "outputs": [
        {
          "name": "stdout",
          "output_type": "stream",
          "text": [
            "Linear Regression:  0.6695178614705675\n",
            "Polynomial Regression:  0.8065942137871948\n",
            "Random Forest:  0.8854924162505137\n",
            "Random Forest through gridsearch:  0.8711581919006175\n",
            "default xgb params :  0.9113870457685982\n",
            "XGBoost through gridsearch:  0.8919625567003844\n"
          ]
        }
      ],
      "source": [
        "#R2 scores of all regression models:\n",
        "print(\"Linear Regression: \", explained_variance_score(y_test, y_pred_lr))\n",
        "print(\"Polynomial Regression: \", explained_variance_score(y_test, y_pred_poly))\n",
        "print(\"Random Forest: \", explained_variance_score(y_test, y_pred_rfr))\n",
        "print(\"Random Forest through gridsearch: \", explained_variance_score(y_test, y_pred_rfr_rand))\n",
        "print(\"default xgb params : \", explained_variance_score(y_test, y_pred_xgb))\n",
        "print(\"XGBoost through gridsearch: \", explained_variance_score(y_test, y_pred_xgbr_rand7))"
      ]
    },
    {
      "cell_type": "code",
      "execution_count": null,
      "id": "45c755a6-4687-44de-877b-23cca36d91a2",
      "metadata": {
        "id": "45c755a6-4687-44de-877b-23cca36d91a2"
      },
      "outputs": [],
      "source": [
        "from sklearn.metrics import mean_absolute_percentage_error"
      ]
    },
    {
      "cell_type": "code",
      "execution_count": null,
      "id": "ef9fcb8f-ed71-4377-9f9a-5f86bc25e12e",
      "metadata": {
        "id": "ef9fcb8f-ed71-4377-9f9a-5f86bc25e12e",
        "outputId": "36dbf210-9fd5-4341-88b4-11b9c8e3fac6"
      },
      "outputs": [
        {
          "name": "stdout",
          "output_type": "stream",
          "text": [
            "Linear Regression:  0.16866394539378823\n",
            "Polynomial Regression:  0.13844411091871678\n",
            "Random Forest:  0.11242540903280611\n",
            "Random Forest through gridsearch:  0.09754291693090991\n",
            "default xgb params :  0.09681689630767087\n",
            "XGBoost through gridsearch:  0.10374446985073657\n"
          ]
        }
      ],
      "source": [
        "#MAPE scores of all regression models:\n",
        "print(\"Linear Regression: \", mean_absolute_percentage_error(y_test, y_pred_lr))\n",
        "print(\"Polynomial Regression: \", mean_absolute_percentage_error(y_test, y_pred_poly))\n",
        "print(\"Random Forest: \", mean_absolute_percentage_error(y_test, y_pred_rfr))\n",
        "print(\"Random Forest through gridsearch: \", mean_absolute_percentage_error(y_test, y_pred_rfr_rand))\n",
        "print(\"default xgb params : \", mean_absolute_percentage_error(y_test, y_pred_xgb))\n",
        "print(\"XGBoost through gridsearch: \", mean_absolute_percentage_error(y_test, y_pred_xgbr_rand7))"
      ]
    },
    {
      "cell_type": "code",
      "execution_count": null,
      "id": "3ed83482-f6a8-4ef4-a1ae-d23880215336",
      "metadata": {
        "id": "3ed83482-f6a8-4ef4-a1ae-d23880215336",
        "outputId": "c846c64a-d069-4d22-a7b2-1d89cb15754e"
      },
      "outputs": [
        {
          "name": "stdout",
          "output_type": "stream",
          "text": [
            "SVM with 'rbf' kernel:  0.12425788918802982\n",
            "SVM with 'poly' kernel:  0.11400033757024823\n"
          ]
        }
      ],
      "source": [
        "print(\"SVM with 'rbf' kernel: \", mean_absolute_percentage_error(y_test, y_pred_reg))\n",
        "print(\"SVM with 'poly' kernel: \", mean_absolute_percentage_error(y_test, y_pred_reg2))"
      ]
    },
    {
      "cell_type": "code",
      "execution_count": null,
      "id": "472cfc27-a877-49ab-be1a-29ca93a9531b",
      "metadata": {
        "id": "472cfc27-a877-49ab-be1a-29ca93a9531b"
      },
      "outputs": [],
      "source": [
        "#Doing shap value analysis for explainability\n",
        "import shap"
      ]
    },
    {
      "cell_type": "code",
      "execution_count": null,
      "id": "6aaa2418-54de-44bf-b471-24bf6b2ac9ef",
      "metadata": {
        "id": "6aaa2418-54de-44bf-b471-24bf6b2ac9ef",
        "outputId": "0e19db7d-b948-4dc4-b27c-7f029b1e2503"
      },
      "outputs": [
        {
          "name": "stderr",
          "output_type": "stream",
          "text": [
            "ntree_limit is deprecated, use `iteration_range` or model slicing instead.\n"
          ]
        }
      ],
      "source": [
        "#Creating tree explainer\n",
        "explainer = shap.TreeExplainer(xgbr)\n",
        "shap_values = explainer(X_test)"
      ]
    },
    {
      "cell_type": "code",
      "execution_count": null,
      "id": "a902a055-b9dc-4b81-9870-8d9ba1692818",
      "metadata": {
        "id": "a902a055-b9dc-4b81-9870-8d9ba1692818",
        "outputId": "85ff6927-1e56-4601-ba49-a88d6733c04c"
      },
      "outputs": [
        {
          "data": {
            "image/png": "[encoded data removed]",
            "text/plain": [
              "<Figure size 576x468 with 1 Axes>"
            ]
          },
          "metadata": {},
          "output_type": "display_data"
        }
      ],
      "source": [
        "shap.plots.bar(shap_values, max_display=10)"
      ]
    },
    {
      "cell_type": "code",
      "execution_count": null,
      "id": "826bf1d7-a418-4106-9741-c5f7cc728603",
      "metadata": {
        "id": "826bf1d7-a418-4106-9741-c5f7cc728603"
      },
      "outputs": [],
      "source": []
    }
  ],
  "metadata": {
    "kernelspec": {
      "display_name": "Python 3",
      "language": "python",
      "name": "python3"
    },
    "language_info": {
      "codemirror_mode": {
        "name": "ipython",
        "version": 3
      },
      "file_extension": ".py",
      "mimetype": "text/x-python",
      "name": "python",
      "nbconvert_exporter": "python",
      "pygments_lexer": "ipython3",
      "version": "3.8.8"
    },
    "colab": {
      "provenance": []
    }
  },
  "nbformat": 4,
  "nbformat_minor": 5
}