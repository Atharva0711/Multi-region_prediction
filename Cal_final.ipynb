{
  "cells": [
    {
      "cell_type": "code",
      "execution_count": null,
      "id": "f9171017-8e02-43fa-9c43-a7e8263d7d71",
      "metadata": {
        "id": "f9171017-8e02-43fa-9c43-a7e8263d7d71"
      },
      "outputs": [],
      "source": [
        "import pandas as pd\n",
        "import numpy as np\n",
        "import seaborn as sns\n",
        "import matplotlib.pyplot as plt\n",
        "from sklearn.ensemble import RandomForestRegressor"
      ]
    },
    {
      "cell_type": "code",
      "execution_count": null,
      "id": "59f0c307-6f54-4a44-b002-0d12d1c18f1f",
      "metadata": {
        "tags": [],
        "id": "59f0c307-6f54-4a44-b002-0d12d1c18f1f"
      },
      "outputs": [],
      "source": [
        "from sklearn.linear_model import LinearRegression\n",
        "from sklearn.preprocessing import PolynomialFeatures\n",
        "import xgboost as xgb\n",
        "from sklearn.preprocessing import StandardScaler\n",
        "from sklearn.model_selection import train_test_split\n",
        "from sklearn.metrics import r2_score"
      ]
    },
    {
      "cell_type": "code",
      "execution_count": null,
      "id": "1e08b8cc-1177-4f2f-bdec-1325fe3b92a3",
      "metadata": {
        "id": "1e08b8cc-1177-4f2f-bdec-1325fe3b92a3"
      },
      "outputs": [],
      "source": [
        "data = pd.read_csv(\"housing.csv\")"
      ]
    },
    {
      "cell_type": "code",
      "execution_count": null,
      "id": "5d16a51d-aba3-4830-90f8-7617698a1b7f",
      "metadata": {
        "tags": [],
        "id": "5d16a51d-aba3-4830-90f8-7617698a1b7f",
        "outputId": "fc953d1b-9e79-45c3-d256-c1ecd22bae44"
      },
      "outputs": [
        {
          "data": {
            "text/plain": [
              "longitude               0\n",
              "latitude                0\n",
              "housing_median_age      0\n",
              "total_rooms             0\n",
              "total_bedrooms        207\n",
              "population              0\n",
              "households              0\n",
              "median_income           0\n",
              "median_house_value      0\n",
              "dtype: int64"
            ]
          },
          "execution_count": 4,
          "metadata": {},
          "output_type": "execute_result"
        }
      ],
      "source": [
        "# Check for missing values\n",
        "data.isnull().sum()"
      ]
    },
    {
      "cell_type": "code",
      "execution_count": null,
      "id": "512a88c6-26b5-450b-8bf2-bdce72ea2ecd",
      "metadata": {
        "id": "512a88c6-26b5-450b-8bf2-bdce72ea2ecd"
      },
      "outputs": [],
      "source": [
        "# Drop rows with null values\n",
        "data = data.dropna(axis=0)"
      ]
    },
    {
      "cell_type": "code",
      "execution_count": null,
      "id": "517cbb3b-44fb-4b64-8de0-8b2d5cb45ae4",
      "metadata": {
        "id": "517cbb3b-44fb-4b64-8de0-8b2d5cb45ae4"
      },
      "outputs": [],
      "source": [
        "X = data.drop(['median_house_value'], axis = 1)\n",
        "y = data['median_house_value']"
      ]
    },
    {
      "cell_type": "code",
      "execution_count": null,
      "id": "bc65ac6a-9468-41ac-b4b7-04893b592910",
      "metadata": {
        "id": "bc65ac6a-9468-41ac-b4b7-04893b592910"
      },
      "outputs": [],
      "source": [
        "X_train, X_test, y_train, y_test = train_test_split(X, y, test_size = 0.2, random_state=42)"
      ]
    },
    {
      "cell_type": "code",
      "execution_count": null,
      "id": "620effe7-b224-49c0-9b0e-94de22af950c",
      "metadata": {
        "tags": [],
        "id": "620effe7-b224-49c0-9b0e-94de22af950c",
        "outputId": "27402bd8-44e3-4efc-d2d4-47685b2967b3"
      },
      "outputs": [
        {
          "data": {
            "text/plain": [
              "array([[ 1.14926596, -1.31686782, -0.6881801 , ..., -0.79893828,\n",
              "        -0.63343317, -0.36176815],\n",
              "       [-0.88204153,  1.12608004, -2.11111658, ...,  1.64131876,\n",
              "         1.12866215,  0.32232714],\n",
              "       [ 0.6978643 , -0.78803045,  0.1813922 , ...,  0.75822788,\n",
              "         0.73764242, -0.34082485],\n",
              "       ...,\n",
              "       [ 0.25147821, -0.1328337 , -1.32059631, ..., -0.12921748,\n",
              "         0.04082521, -0.69050971],\n",
              "       [ 1.05898563, -0.71315082, -0.05576388, ..., -0.11354131,\n",
              "        -0.15719119, -0.2039848 ],\n",
              "       [ 1.219484  , -1.41982731, -1.16249226, ...,  1.93306969,\n",
              "         1.72020482, -0.81239027]])"
            ]
          },
          "execution_count": 8,
          "metadata": {},
          "output_type": "execute_result"
        }
      ],
      "source": [
        "#Normalising\n",
        "sc = StandardScaler()\n",
        "sc.fit_transform(X_train)\n",
        "sc.fit_transform(X_test)"
      ]
    },
    {
      "cell_type": "code",
      "execution_count": null,
      "id": "b39b9aa0-937d-488f-a329-b1568d7fb44d",
      "metadata": {
        "id": "b39b9aa0-937d-488f-a329-b1568d7fb44d",
        "outputId": "6cc928d2-c6e2-4687-d9be-c06e0b0a55ba"
      },
      "outputs": [
        {
          "data": {
            "text/plain": [
              "LinearRegression()"
            ]
          },
          "execution_count": 9,
          "metadata": {},
          "output_type": "execute_result"
        }
      ],
      "source": [
        "lr = LinearRegression()\n",
        "lr.fit(X_train, y_train)"
      ]
    },
    {
      "cell_type": "code",
      "execution_count": null,
      "id": "29e07d61-b509-4dcc-b978-af3c0a218f41",
      "metadata": {
        "id": "29e07d61-b509-4dcc-b978-af3c0a218f41"
      },
      "outputs": [],
      "source": [
        "# Lr model prediction on trained data\n",
        "y_pred_lr = lr.predict(X_test)"
      ]
    },
    {
      "cell_type": "code",
      "execution_count": null,
      "id": "8f5766b7-a4d6-4826-b74a-3739c3c19c71",
      "metadata": {
        "id": "8f5766b7-a4d6-4826-b74a-3739c3c19c71"
      },
      "outputs": [],
      "source": [
        "#Using polynomial regression\n",
        "poly = PolynomialFeatures(degree=3)"
      ]
    },
    {
      "cell_type": "code",
      "execution_count": null,
      "id": "24b26495-0866-41c1-8fc0-639633a11750",
      "metadata": {
        "id": "24b26495-0866-41c1-8fc0-639633a11750"
      },
      "outputs": [],
      "source": [
        "X_train_poly = poly.fit_transform(X_train)\n",
        "X_test_poly = poly.fit_transform(X_test)"
      ]
    },
    {
      "cell_type": "code",
      "execution_count": null,
      "id": "331813e9-f53a-4e24-82f7-48a3e76e0c70",
      "metadata": {
        "id": "331813e9-f53a-4e24-82f7-48a3e76e0c70",
        "outputId": "3d2a537a-d175-4244-ec4a-1cc2c94cccb9"
      },
      "outputs": [
        {
          "data": {
            "text/plain": [
              "LinearRegression()"
            ]
          },
          "execution_count": 13,
          "metadata": {},
          "output_type": "execute_result"
        }
      ],
      "source": [
        "lr.fit(X_train_poly, y_train)"
      ]
    },
    {
      "cell_type": "code",
      "execution_count": null,
      "id": "04370b67-758c-4e04-b89c-f84735c0cd73",
      "metadata": {
        "id": "04370b67-758c-4e04-b89c-f84735c0cd73"
      },
      "outputs": [],
      "source": [
        "y_pred_poly = lr.predict(X_test_poly)"
      ]
    },
    {
      "cell_type": "code",
      "execution_count": null,
      "id": "fe2590da-ea20-4dbe-8594-67542f389ba5",
      "metadata": {
        "tags": [],
        "id": "fe2590da-ea20-4dbe-8594-67542f389ba5",
        "outputId": "478c1f90-bf99-485a-c3dc-9d7940575877"
      },
      "outputs": [
        {
          "data": {
            "text/plain": [
              "RandomForestRegressor()"
            ]
          },
          "execution_count": 15,
          "metadata": {},
          "output_type": "execute_result"
        }
      ],
      "source": [
        "rfr=RandomForestRegressor()\n",
        "rfr.fit(X_train,y_train)"
      ]
    },
    {
      "cell_type": "code",
      "execution_count": null,
      "id": "0cbff4b5-c4c4-4f8c-ae8d-9c99729170b9",
      "metadata": {
        "id": "0cbff4b5-c4c4-4f8c-ae8d-9c99729170b9"
      },
      "outputs": [],
      "source": [
        "y_pred_rfr = rfr.predict(X_test)"
      ]
    },
    {
      "cell_type": "code",
      "execution_count": null,
      "id": "770c8d00-04bf-4d94-b432-888a3defb18c",
      "metadata": {
        "id": "770c8d00-04bf-4d94-b432-888a3defb18c"
      },
      "outputs": [],
      "source": [
        "#Using gridsearch for hyper-parameter tuning, rfr\n",
        "from sklearn.model_selection import RandomizedSearchCV"
      ]
    },
    {
      "cell_type": "code",
      "execution_count": null,
      "id": "878f62cd-8f5f-45ec-a34f-6f2764de1f14",
      "metadata": {
        "id": "878f62cd-8f5f-45ec-a34f-6f2764de1f14"
      },
      "outputs": [],
      "source": [
        "#Setting multiple values for rfr parameters\n",
        "random_grid = {'n_estimators': [10, 50, 100,200, 400, 500], 'max_features': ['auto', 'sqrt'], 'max_depth': [10, 20, 30, 40, 50],\n",
        "            'min_samples_split': [2, 5, 6, 10], 'min_samples_leaf': [1, 2, 3, 4], 'bootstrap': [True, False]}"
      ]
    },
    {
      "cell_type": "code",
      "execution_count": null,
      "id": "58e784df-fa0f-4574-9bac-5e983e2ee366",
      "metadata": {
        "id": "58e784df-fa0f-4574-9bac-5e983e2ee366"
      },
      "outputs": [],
      "source": [
        "rfr_random3 = RandomizedSearchCV(estimator = rfr, param_distributions = random_grid, cv = 3, verbose=2, random_state=42, n_jobs = -1)"
      ]
    },
    {
      "cell_type": "code",
      "execution_count": null,
      "id": "45232204-f8b8-4fef-b628-14b765235bf2",
      "metadata": {
        "collapsed": true,
        "jupyter": {
          "outputs_hidden": true
        },
        "tags": [],
        "id": "45232204-f8b8-4fef-b628-14b765235bf2",
        "outputId": "eecab50a-c12c-4165-a7de-eaa4164efbbb"
      },
      "outputs": [
        {
          "name": "stdout",
          "output_type": "stream",
          "text": [
            "Fitting 3 folds for each of 10 candidates, totalling 30 fits\n"
          ]
        },
        {
          "data": {
            "text/plain": [
              "RandomizedSearchCV(cv=3, estimator=RandomForestRegressor(), n_jobs=-1,\n",
              "                   param_distributions={'bootstrap': [True, False],\n",
              "                                        'max_depth': [10, 20, 30, 40, 50],\n",
              "                                        'max_features': ['auto', 'sqrt'],\n",
              "                                        'min_samples_leaf': [1, 2, 3, 4],\n",
              "                                        'min_samples_split': [2, 5, 6, 10],\n",
              "                                        'n_estimators': [10, 50, 100, 200, 400,\n",
              "                                                         500, 600]},\n",
              "                   random_state=42, verbose=2)"
            ]
          },
          "execution_count": 44,
          "metadata": {},
          "output_type": "execute_result"
        }
      ],
      "source": [
        "#Fitting training data into randomisedsearchcv\n",
        "rfr_random3.fit(X_train, y_train)"
      ]
    },
    {
      "cell_type": "code",
      "execution_count": null,
      "id": "9bd0c5e4-b49c-4d88-b88a-59c53b504dcc",
      "metadata": {
        "collapsed": true,
        "jupyter": {
          "outputs_hidden": true
        },
        "tags": [],
        "id": "9bd0c5e4-b49c-4d88-b88a-59c53b504dcc",
        "outputId": "5edc08b9-ef02-408a-9326-6e4e9ed75e4d"
      },
      "outputs": [
        {
          "data": {
            "text/plain": [
              "{'n_estimators': 400,\n",
              " 'min_samples_split': 6,\n",
              " 'min_samples_leaf': 1,\n",
              " 'max_features': 'auto',\n",
              " 'max_depth': 30,\n",
              " 'bootstrap': True}"
            ]
          },
          "execution_count": 45,
          "metadata": {},
          "output_type": "execute_result"
        }
      ],
      "source": [
        "#Getting best rfr parameters\n",
        "rfr_random3.best_params_"
      ]
    },
    {
      "cell_type": "code",
      "execution_count": null,
      "id": "ab5cf7b8-3298-4eab-b9de-5ef7a7ea47c6",
      "metadata": {
        "id": "ab5cf7b8-3298-4eab-b9de-5ef7a7ea47c6"
      },
      "outputs": [],
      "source": [
        "#Updating rfr with best_params values\n",
        "rfr_rand3 = RandomForestRegressor(bootstrap=True, criterion='mse', max_depth=30,\n",
        "           max_features='auto', max_leaf_nodes=None,\n",
        "           min_impurity_decrease=0.0, min_impurity_split=None,\n",
        "           min_samples_leaf=1, min_samples_split=6,\n",
        "           min_weight_fraction_leaf=0.0, n_estimators=400, n_jobs=None,\n",
        "           oob_score=False, random_state=None, verbose=0, warm_start=False)"
      ]
    },
    {
      "cell_type": "code",
      "execution_count": null,
      "id": "d5194780-f7e7-4cc0-8a56-1ca929aecdc4",
      "metadata": {
        "tags": [],
        "id": "d5194780-f7e7-4cc0-8a56-1ca929aecdc4",
        "outputId": "e79d75af-36c6-464d-d5a8-0ee74f021976"
      },
      "outputs": [
        {
          "data": {
            "text/plain": [
              "RandomForestRegressor(max_depth=30, min_samples_split=6, n_estimators=400)"
            ]
          },
          "execution_count": 21,
          "metadata": {},
          "output_type": "execute_result"
        }
      ],
      "source": [
        "#Fitting training data with rfr's best_params\n",
        "rfr_rand3.fit(X_train, y_train)"
      ]
    },
    {
      "cell_type": "code",
      "execution_count": null,
      "id": "3d03845d-7d65-420f-be60-faf12fc9940f",
      "metadata": {
        "id": "3d03845d-7d65-420f-be60-faf12fc9940f"
      },
      "outputs": [],
      "source": [
        "y_pred_rfr_rand3 = rfr_rand3.predict(X_test)"
      ]
    },
    {
      "cell_type": "code",
      "execution_count": null,
      "id": "8b9390f3-58d7-4c80-93a1-34beb9d908bc",
      "metadata": {
        "id": "8b9390f3-58d7-4c80-93a1-34beb9d908bc"
      },
      "outputs": [],
      "source": [
        "#Now with XGBoost\n",
        "from xgboost import XGBRegressor\n",
        "xgbr = XGBRegressor()"
      ]
    },
    {
      "cell_type": "code",
      "execution_count": null,
      "id": "072eb03a-ea22-41b4-8eda-acb31ecefdb7",
      "metadata": {
        "tags": [],
        "id": "072eb03a-ea22-41b4-8eda-acb31ecefdb7",
        "outputId": "7cb6214f-6870-49e9-9453-59c4659a479b"
      },
      "outputs": [
        {
          "data": {
            "text/plain": [
              "XGBRegressor(base_score=0.5, booster='gbtree', colsample_bylevel=1,\n",
              "             colsample_bynode=1, colsample_bytree=1, gamma=0, gpu_id=-1,\n",
              "             importance_type='gain', interaction_constraints='',\n",
              "             learning_rate=0.300000012, max_delta_step=0, max_depth=6,\n",
              "             min_child_weight=1, missing=nan, monotone_constraints='()',\n",
              "             n_estimators=100, n_jobs=4, num_parallel_tree=1, random_state=0,\n",
              "             reg_alpha=0, reg_lambda=1, scale_pos_weight=1, subsample=1,\n",
              "             tree_method='exact', validate_parameters=1, verbosity=None)"
            ]
          },
          "execution_count": 24,
          "metadata": {},
          "output_type": "execute_result"
        }
      ],
      "source": [
        "# Train the model with default xgb params\n",
        "xgbr.fit(X_train, y_train)"
      ]
    },
    {
      "cell_type": "code",
      "execution_count": null,
      "id": "7e0ac239-b0b3-4ad5-b6f1-c4133c53151c",
      "metadata": {
        "id": "7e0ac239-b0b3-4ad5-b6f1-c4133c53151c"
      },
      "outputs": [],
      "source": [
        "# Model prediction on train data (xgb default)\n",
        "y_pred_xgb = xgbr.predict(X_test)"
      ]
    },
    {
      "cell_type": "code",
      "execution_count": null,
      "id": "2ac5d66a-d44b-4a05-b1da-b9a0bdeac4d1",
      "metadata": {
        "id": "2ac5d66a-d44b-4a05-b1da-b9a0bdeac4d1"
      },
      "outputs": [],
      "source": [
        "#Setting multiple values for xgb parameters\n",
        "params={\n",
        " \"learning_rate\"    : [0.001, 0.01, 0.05, 0.1, 0.2, 0.3] ,\n",
        " \"max_depth\"        : [4, 5, 6, 8, 10, 12],\n",
        " \"min_child_weight\" : [1, 3, 5],\n",
        " \"gamma\"            : [ 0.0, 0.1, 0.2 , 0.3],\n",
        " \"colsample_bytree\" : [ 0.3, 0.4, 0.5, 1]\n",
        "\n",
        "}"
      ]
    },
    {
      "cell_type": "code",
      "execution_count": null,
      "id": "fb9c5bea-1f24-4af7-91d1-91c8c5120a8c",
      "metadata": {
        "id": "fb9c5bea-1f24-4af7-91d1-91c8c5120a8c"
      },
      "outputs": [],
      "source": [
        "xgb_randommock = RandomizedSearchCV(estimator = xgbr, param_distributions= params, cv=3, verbose=2, n_jobs=-1)"
      ]
    },
    {
      "cell_type": "code",
      "execution_count": null,
      "id": "0cbd7e94-41aa-4351-8e1e-587166da26f4",
      "metadata": {
        "collapsed": true,
        "jupyter": {
          "outputs_hidden": true
        },
        "tags": [],
        "id": "0cbd7e94-41aa-4351-8e1e-587166da26f4",
        "outputId": "54f5afd0-48ba-4725-fb46-31bef8aa69c6"
      },
      "outputs": [
        {
          "name": "stdout",
          "output_type": "stream",
          "text": [
            "Fitting 3 folds for each of 10 candidates, totalling 30 fits\n"
          ]
        },
        {
          "data": {
            "text/plain": [
              "RandomizedSearchCV(cv=3,\n",
              "                   estimator=XGBRegressor(base_score=0.5, booster='gbtree',\n",
              "                                          colsample_bylevel=1,\n",
              "                                          colsample_bynode=1,\n",
              "                                          colsample_bytree=1, gamma=0,\n",
              "                                          gpu_id=-1, importance_type='gain',\n",
              "                                          interaction_constraints='',\n",
              "                                          learning_rate=0.300000012,\n",
              "                                          max_delta_step=0, max_depth=6,\n",
              "                                          min_child_weight=1, missing=nan,\n",
              "                                          monotone_constraints='()',\n",
              "                                          n_estimators=100, n_jobs=4,\n",
              "                                          num_parallel_tree=1, random_state=0,\n",
              "                                          reg_alpha=0, reg_lambda=1,\n",
              "                                          scale_pos_weight=1, subsample=1,\n",
              "                                          tree_method='exact',\n",
              "                                          validate_parameters=1,\n",
              "                                          verbosity=None),\n",
              "                   n_jobs=-1,\n",
              "                   param_distributions={'colsample_bytree': [0.3, 0.4, 0.5, 1],\n",
              "                                        'gamma': [0.0, 0.1, 0.2, 0.3],\n",
              "                                        'learning_rate': [0.001, 0.01, 0.05,\n",
              "                                                          0.1, 0.2, 0.3],\n",
              "                                        'max_depth': [4, 5, 6, 8, 10, 12],\n",
              "                                        'min_child_weight': [1, 3, 5]},\n",
              "                   verbose=2)"
            ]
          },
          "execution_count": 157,
          "metadata": {},
          "output_type": "execute_result"
        }
      ],
      "source": [
        "#Fitting training data into randomisedsearchcv\n",
        "xgb_randommock.fit(X_train, y_train)"
      ]
    },
    {
      "cell_type": "code",
      "execution_count": null,
      "id": "d8d475a0-148d-40eb-b791-d5fe9cbbd2cf",
      "metadata": {
        "collapsed": true,
        "jupyter": {
          "outputs_hidden": true
        },
        "tags": [],
        "id": "d8d475a0-148d-40eb-b791-d5fe9cbbd2cf",
        "outputId": "6ce0a0e5-abbb-4873-ab3f-6caf80c6939d"
      },
      "outputs": [
        {
          "ename": "AttributeError",
          "evalue": "'RandomizedSearchCV' object has no attribute 'best_params_'",
          "output_type": "error",
          "traceback": [
            "\u001b[1;31m---------------------------------------------------------------------------\u001b[0m",
            "\u001b[1;31mAttributeError\u001b[0m                            Traceback (most recent call last)",
            "\u001b[1;32m<ipython-input-175-6958a4f5a366>\u001b[0m in \u001b[0;36m<module>\u001b[1;34m\u001b[0m\n\u001b[1;32m----> 1\u001b[1;33m \u001b[0mxgb_random6\u001b[0m\u001b[1;33m.\u001b[0m\u001b[0mbest_params_\u001b[0m\u001b[1;33m\u001b[0m\u001b[1;33m\u001b[0m\u001b[0m\n\u001b[0m",
            "\u001b[1;31mAttributeError\u001b[0m: 'RandomizedSearchCV' object has no attribute 'best_params_'"
          ]
        }
      ],
      "source": [
        "xgb_randommock.best_params_"
      ]
    },
    {
      "cell_type": "code",
      "execution_count": null,
      "id": "fb2c4796-5829-44c9-8d28-6d6b2e998dfc",
      "metadata": {
        "id": "fb2c4796-5829-44c9-8d28-6d6b2e998dfc"
      },
      "outputs": [],
      "source": [
        "#Updating xgb with best_params values\n",
        "xgb_rand_predmock = XGBRegressor(base_score=0.5, booster='gbtree', colsample_bylevel=1,\n",
        "             colsample_bynode=1, colsample_bytree=1, gamma=0.0, gpu_id=-1,\n",
        "             importance_type='gain', interaction_constraints='',\n",
        "             learning_rate=0.2, max_delta_step=0, max_depth=6,\n",
        "             min_child_weight=5, monotone_constraints='()',\n",
        "             n_estimators=600, n_jobs=4, num_parallel_tree=1, random_state=0,\n",
        "             reg_alpha=0, reg_lambda=1, scale_pos_weight=1, subsample=1,\n",
        "             tree_method='exact', validate_parameters=1, verbosity=None)"
      ]
    },
    {
      "cell_type": "code",
      "execution_count": null,
      "id": "05b90725-6cd8-464d-ac00-88eca4392acc",
      "metadata": {
        "tags": [],
        "id": "05b90725-6cd8-464d-ac00-88eca4392acc",
        "outputId": "529c59da-8fe6-49b8-daad-54469b8fddfb"
      },
      "outputs": [
        {
          "data": {
            "text/plain": [
              "XGBRegressor(base_score=0.5, booster='gbtree', colsample_bylevel=1,\n",
              "             colsample_bynode=1, colsample_bytree=1, gamma=0.0, gpu_id=-1,\n",
              "             importance_type='gain', interaction_constraints='',\n",
              "             learning_rate=0.2, max_delta_step=0, max_depth=6,\n",
              "             min_child_weight=5, missing=nan, monotone_constraints='()',\n",
              "             n_estimators=600, n_jobs=4, num_parallel_tree=1, random_state=0,\n",
              "             reg_alpha=0, reg_lambda=1, scale_pos_weight=1, subsample=1,\n",
              "             tree_method='exact', validate_parameters=1, verbosity=None)"
            ]
          },
          "execution_count": 29,
          "metadata": {},
          "output_type": "execute_result"
        }
      ],
      "source": [
        "#Fitting training data with xgb's best_params\n",
        "xgb_rand_predmock.fit(X_train, y_train)"
      ]
    },
    {
      "cell_type": "code",
      "execution_count": null,
      "id": "20311407-d41a-4fc8-9775-083457a597b0",
      "metadata": {
        "id": "20311407-d41a-4fc8-9775-083457a597b0"
      },
      "outputs": [],
      "source": [
        "# Model prediction on trained xgb best params data\n",
        "y_pred_xgb_rand = xgb_rand_predmock.predict(X_test)"
      ]
    },
    {
      "cell_type": "code",
      "execution_count": null,
      "id": "1f40b3b6-7c34-47d4-b85c-ea64dba6aa9f",
      "metadata": {
        "id": "1f40b3b6-7c34-47d4-b85c-ea64dba6aa9f"
      },
      "outputs": [],
      "source": [
        "from sklearn import svm"
      ]
    },
    {
      "cell_type": "code",
      "execution_count": null,
      "id": "a9aede41-8434-4650-9db8-a306e378d9d9",
      "metadata": {
        "id": "a9aede41-8434-4650-9db8-a306e378d9d9"
      },
      "outputs": [],
      "source": [
        "reg_1 = svm.SVR(C=100000000, cache_size=200, coef0=0.0, degree=6, epsilon=0.1, gamma='scale', kernel='rbf', max_iter=-1, shrinking=True,\n",
        "  tol=0.001, verbose=False)"
      ]
    },
    {
      "cell_type": "code",
      "execution_count": null,
      "id": "9f887918-6a30-4984-9d4d-2766d226a493",
      "metadata": {
        "id": "9f887918-6a30-4984-9d4d-2766d226a493",
        "outputId": "29642bf1-6aad-49d7-83ab-e0dbd3461b94"
      },
      "outputs": [
        {
          "data": {
            "text/plain": [
              "SVR(C=100000000, degree=6)"
            ]
          },
          "execution_count": 35,
          "metadata": {},
          "output_type": "execute_result"
        }
      ],
      "source": [
        "reg_1.fit(X_train, y_train)"
      ]
    },
    {
      "cell_type": "code",
      "execution_count": null,
      "id": "df507657-5ffe-4627-b036-7164bc2ee153",
      "metadata": {
        "id": "df507657-5ffe-4627-b036-7164bc2ee153"
      },
      "outputs": [],
      "source": [
        "y_pred_reg1 = reg_1.predict(X_test)"
      ]
    },
    {
      "cell_type": "code",
      "execution_count": null,
      "id": "f4f54fc3-993b-4def-abfc-49cba493a77b",
      "metadata": {
        "id": "f4f54fc3-993b-4def-abfc-49cba493a77b",
        "outputId": "4707453d-9394-4b5e-8045-80a7ae91aacb"
      },
      "outputs": [
        {
          "name": "stdout",
          "output_type": "stream",
          "text": [
            "Linear Regression:  0.6400865688993744\n",
            "Polynomial Regression:  0.7230113909492907\n",
            "Random Forest:  0.8235945402853782\n",
            "Random Forest through gridsearch:  0.8242838281232187\n",
            "XGB default:  0.8243100508232859\n",
            "XGB with GridSearch:  0.8357425254386621\n",
            "XGB with GridSearch:  0.6439694655627196\n"
          ]
        }
      ],
      "source": [
        "#R2 scores of regression models:\n",
        "print(\"Linear Regression: \", r2_score(y_test, y_pred_lr))\n",
        "print(\"Polynomial Regression: \", r2_score(y_test, y_pred_poly))\n",
        "print(\"Random Forest: \", r2_score(y_test, y_pred_rfr))\n",
        "print(\"Random Forest through gridsearch: \", r2_score(y_test, y_pred_rfr_rand3))\n",
        "print(\"XGB default: \", r2_score(y_test, y_pred_xgb))\n",
        "print(\"XGB with GridSearch: \", r2_score(y_test, y_pred_xgb_rand))\n",
        "print(\"XGB with GridSearch: \", r2_score(y_test, y_pred_reg1))"
      ]
    },
    {
      "cell_type": "code",
      "execution_count": null,
      "id": "293aaa4a-b18b-41c2-9aed-57c83268e224",
      "metadata": {
        "id": "293aaa4a-b18b-41c2-9aed-57c83268e224",
        "outputId": "54181acc-fd52-45c0-fcd9-fd18f1aafced"
      },
      "outputs": [
        {
          "name": "stdout",
          "output_type": "stream",
          "text": [
            "0.6318276343910838 77232.15087899042\n",
            "0.7469415041301453 51945.43085274031\n",
            "0.8000750121766054 41532.36232658153\n",
            "0.7965518435347188 42197.23524742758\n",
            "0.8379930193904792 33521.094663486736\n",
            "0.8537924221887736 29835.140717201753\n"
          ]
        }
      ],
      "source": [
        "m_lr, b_lr = np.polyfit(y_test[0:599], y_pred_lr[0:599], 1)\n",
        "print(m_lr, b_lr)\n",
        "\n",
        "m_pol, b_pol = np.polyfit(y_test[0:599], y_pred_poly[0:599], 1)\n",
        "print(m_pol, b_pol)\n",
        "\n",
        "m_rfr, b_rfr = np.polyfit(y_test[0:599], y_pred_rfr[0:599], 1)\n",
        "print(m_rfr, b_rfr)\n",
        "\n",
        "m_rfrand, b_rfrand = np.polyfit(y_test[0:599], y_pred_rfr_rand3[0:599], 1)\n",
        "print(m_rfrand, b_rfrand)\n",
        "\n",
        "m_xgbr, b_xgbr = np.polyfit(y_test[0:599], y_pred_xgb[0:599], 1)\n",
        "print(m_xgbr, b_xgbr)\n",
        "\n",
        "m_xgbrand, b_xgbrand = np.polyfit(y_test[0:599], y_pred_xgb_rand[0:599], 1)\n",
        "print(m_xgbrand, b_xgbrand)"
      ]
    },
    {
      "cell_type": "code",
      "execution_count": null,
      "id": "55c04fe1-a36d-4aca-a89b-4b82e5dad584",
      "metadata": {
        "id": "55c04fe1-a36d-4aca-a89b-4b82e5dad584"
      },
      "outputs": [],
      "source": [
        "lr_equation = (0.6318*(y_test[0:599]) + 77232)\n",
        "poly_equation = (0.7469*(y_test[0:599]) + 51945)\n",
        "rfr_equation = (0.7980*(y_test[0:599]) + 41609)\n",
        "rfr_rand_equation = (0.7974*(y_test[0:599]) + 42154)\n",
        "xgbr_equation = (0.8379*(y_test[0:599]) + 33521)\n",
        "xgb_rand_equation = (0.8537*(y_test[0:599]) + 29835)\n",
        "svm_rbf_equation = (0.6422*(y_test[0:599]) + 77101)\n",
        "svm_poly_equation = (0.4108*(y_test[0:599]) + 114767)"
      ]
    },
    {
      "cell_type": "code",
      "execution_count": null,
      "id": "e6b11b99-014f-4376-b606-3617ac721b56",
      "metadata": {
        "tags": [],
        "id": "e6b11b99-014f-4376-b606-3617ac721b56",
        "outputId": "771a8925-8ecc-4aef-eb06-c91e1e6e9d23"
      },
      "outputs": [
        {
          "data": {
            "image/png": "[encoded data removed]",
            "text/plain": [
              "<Figure size 540x540 with 8 Axes>"
            ]
          },
          "metadata": {
            "needs_background": "light"
          },
          "output_type": "display_data"
        }
      ],
      "source": [
        "fig, axs = plt.subplots(4, 2, figsize=(7.5,7.5), constrained_layout=True)\n",
        "axs[0, 0].scatter(y_test[0:599], y_pred_lr[0:599])\n",
        "axs[0, 0].plot(y_test[0:599], lr_equation, label = 'y=0.6318x + 77232', color='orange')\n",
        "axs[0, 0].set_title(\"Linear Regression\")\n",
        "axs[0, 0].legend(loc='upper center')\n",
        "axs[0, 1].scatter(y_test[0:599], y_pred_poly[0:599])\n",
        "axs[0, 1].plot(y_test[0:599], poly_equation, label = 'y=0.7469x + 51945', color='orange')\n",
        "axs[0, 1].set_title(\"Linear Regression (Polynomial)\")\n",
        "axs[0, 1].legend(loc='upper center')\n",
        "axs[1, 0].scatter(y_test[0:599], y_pred_rfr[0:599])\n",
        "axs[1, 0].plot(y_test[0:599], rfr_equation, label = 'y=0.7980x + 41609', color='orange')\n",
        "axs[1, 0].set_title(\"Random Forest\")\n",
        "axs[1, 0].legend(loc='upper center')\n",
        "axs[1, 1].scatter(y_test[0:599], y_pred_rfr_rand3[0:599])\n",
        "axs[1, 1].plot(y_test[0:599], rfr_rand_equation, label = 'y=0.7974x + 42154', color='orange')\n",
        "axs[1, 1].set_title(\"Random Forest Optimum Params\")\n",
        "axs[1, 1].legend(loc='upper center')\n",
        "axs[2, 0].scatter(y_test[0:599], y_pred_xgb[0:599])\n",
        "axs[2, 0].plot(y_test[0:599], xgbr_equation, label = 'y=0.8379x + 33521', color='orange')\n",
        "axs[2, 0].set_title(\"XGBoost\")\n",
        "axs[2, 0].legend(loc='upper center')\n",
        "axs[2, 1].scatter(y_test[0:599], y_pred_xgb_rand[0:599])\n",
        "axs[2, 1].plot(y_test[0:599], xgb_rand_equation, label = 'y=0.8537x + 29835', color='orange')\n",
        "axs[2, 1].set_title(\"XGBoost Optimum Params\", weight='bold')\n",
        "axs[2, 1].legend(loc='upper center')\n",
        "axs[3, 0].scatter(y_test[0:599], y_pred_lr[0:599])\n",
        "axs[3, 0].plot(y_test[0:599], svm_rbf_equation, label = 'y=0.6422x + 77101', color='orange')\n",
        "axs[3, 0].set_title(\"SVM (kernel=RBF)\")\n",
        "axs[3, 0].legend(loc='upper center')\n",
        "axs[3, 1].scatter(y_test[0:599], y_pred_reg1[0:599])\n",
        "axs[3, 1].plot(y_test[0:599], svm_poly_equation, label = 'y=0.4108x + 114767', color='orange')\n",
        "axs[3, 1].set_title(\"SVM (kernel=Linear)\")\n",
        "axs[3, 1].legend(loc='upper center')\n",
        "\n",
        "# set labels\n",
        "plt.setp(axs[-1, :], xlabel='Real Values')\n",
        "plt.setp(axs[:, 0], ylabel='Predicted Values')\n",
        "plt.show()"
      ]
    },
    {
      "cell_type": "code",
      "execution_count": null,
      "id": "35bfd1e1-e87d-4731-9dca-4cefdc816168",
      "metadata": {
        "id": "35bfd1e1-e87d-4731-9dca-4cefdc816168"
      },
      "outputs": [],
      "source": [
        "#changing kernel linear with c=10\n",
        "reg2 = svm.SVR(C=1000000, cache_size=200, coef0=0.0, degree=3, epsilon=0.1,\n",
        "  gamma='scale', kernel='poly', max_iter=-1, shrinking=True,\n",
        "  tol=0.001, verbose=False)"
      ]
    },
    {
      "cell_type": "code",
      "execution_count": null,
      "id": "24b4506c-b503-40d7-8ed7-0ef5dd5008ab",
      "metadata": {
        "id": "24b4506c-b503-40d7-8ed7-0ef5dd5008ab",
        "outputId": "77f35089-e796-45a0-a411-a936ffbeca3d"
      },
      "outputs": [
        {
          "data": {
            "text/plain": [
              "SVR(C=1000000, kernel='poly')"
            ]
          },
          "execution_count": 73,
          "metadata": {},
          "output_type": "execute_result"
        }
      ],
      "source": [
        "reg2.fit(X_train, y_train)"
      ]
    },
    {
      "cell_type": "code",
      "execution_count": null,
      "id": "43422b8a-fb72-4e04-8ebc-f73d1b6919b4",
      "metadata": {
        "id": "43422b8a-fb72-4e04-8ebc-f73d1b6919b4"
      },
      "outputs": [],
      "source": [
        "y_pred_reg2 = reg2.predict(X_test)"
      ]
    },
    {
      "cell_type": "code",
      "execution_count": null,
      "id": "5774c3d5-d2a7-44c0-a95e-36e731b4ffbe",
      "metadata": {
        "id": "5774c3d5-d2a7-44c0-a95e-36e731b4ffbe",
        "outputId": "ed8c18fb-c632-46b8-ede3-ff86979d1f3c"
      },
      "outputs": [
        {
          "name": "stdout",
          "output_type": "stream",
          "text": [
            "XGB with GridSearch:  0.0653006629184818\n"
          ]
        }
      ],
      "source": [
        "print(\"XGB with GridSearch: \", r2_score(y_test, y_pred_reg2))"
      ]
    },
    {
      "cell_type": "code",
      "execution_count": null,
      "id": "b67b25b6-1035-4a41-9eac-75ed9ed5c40e",
      "metadata": {
        "id": "b67b25b6-1035-4a41-9eac-75ed9ed5c40e"
      },
      "outputs": [],
      "source": [
        "from sklearn.metrics import mean_absolute_percentage_error"
      ]
    },
    {
      "cell_type": "code",
      "execution_count": null,
      "id": "13192d0e-2dca-48f0-a021-cdd6c546f849",
      "metadata": {
        "id": "13192d0e-2dca-48f0-a021-cdd6c546f849",
        "outputId": "4c53a747-745f-4fd5-829b-7bb05eb5c9ac"
      },
      "outputs": [
        {
          "name": "stdout",
          "output_type": "stream",
          "text": [
            "Linear Regression:  0.30273659432782263\n",
            "Polynomial Regression:  0.2514239899622314\n",
            "Random Forest:  0.17408056560716031\n",
            "Random Forest through gridsearch:  0.17415598801139445\n",
            "default xgb params :  0.17803749618552628\n",
            "XGBoost through gridsearch:  0.17398069495871193\n",
            "SVM with 'rbf' kernel:  0.27991683764409264\n"
          ]
        }
      ],
      "source": [
        "#R2 scores of all regression models:\n",
        "print(\"Linear Regression: \", mean_absolute_percentage_error(y_test, y_pred_lr))\n",
        "print(\"Polynomial Regression: \", mean_absolute_percentage_error(y_test, y_pred_poly))\n",
        "print(\"Random Forest: \", mean_absolute_percentage_error(y_test, y_pred_rfr))\n",
        "print(\"Random Forest through gridsearch: \", mean_absolute_percentage_error(y_test, y_pred_rfr_rand3))\n",
        "print(\"default xgb params : \", mean_absolute_percentage_error(y_test, y_pred_xgb))\n",
        "print(\"XGBoost through gridsearch: \", mean_absolute_percentage_error(y_test, y_pred_xgb_rand))\n",
        "print(\"SVM with 'rbf' kernel: \", mean_absolute_percentage_error(y_test, y_pred_reg1))"
      ]
    },
    {
      "cell_type": "code",
      "execution_count": null,
      "id": "ee4b58e4-9cab-4a34-8748-443546351966",
      "metadata": {
        "id": "ee4b58e4-9cab-4a34-8748-443546351966"
      },
      "outputs": [],
      "source": []
    }
  ],
  "metadata": {
    "kernelspec": {
      "display_name": "Python 3",
      "language": "python",
      "name": "python3"
    },
    "language_info": {
      "codemirror_mode": {
        "name": "ipython",
        "version": 3
      },
      "file_extension": ".py",
      "mimetype": "text/x-python",
      "name": "python",
      "nbconvert_exporter": "python",
      "pygments_lexer": "ipython3",
      "version": "3.8.8"
    },
    "colab": {
      "provenance": []
    }
  },
  "nbformat": 4,
  "nbformat_minor": 5
}